{
 "cells": [
  {
   "cell_type": "markdown",
   "metadata": {},
   "source": [
    "# Supervised Learning Model Evaluation Lab\n",
    "\n",
    "Complete the exercises below to solidify your knowledge and understanding of supervised learning model evaluation."
   ]
  },
  {
   "cell_type": "code",
   "execution_count": 120,
   "metadata": {},
   "outputs": [],
   "source": [
    "import pandas as pd\n",
    "import pylab as plt\n",
    "import seaborn as sns\n",
    "\n",
    "from sklearn.datasets import load_iris\n",
    "from sklearn.svm import SVC, SVR, LinearSVR\n",
    "from sklearn.tree import DecisionTreeClassifier\n",
    "from sklearn.neural_network import MLPRegressor\n",
    "from sklearn.model_selection import train_test_split\n",
    "from sklearn.neighbors import KNeighborsClassifier, KNeighborsRegressor\n",
    "from sklearn.linear_model import LinearRegression, LogisticRegression, ElasticNet, Lasso, Ridge\n",
    "from sklearn.ensemble import RandomForestClassifier, GradientBoostingRegressor, RandomForestRegressor\n",
    "\n",
    "from sklearn.metrics import r2_score, mean_squared_error, mean_absolute_error, \\\n",
    "accuracy_score, balanced_accuracy_score, precision_score, recall_score, f1_score, confusion_matrix\n",
    "\n",
    "import warnings\n",
    "warnings.filterwarnings('ignore')"
   ]
  },
  {
   "cell_type": "markdown",
   "metadata": {},
   "source": [
    "## Regression Model Evaluation"
   ]
  },
  {
   "cell_type": "code",
   "execution_count": 96,
   "metadata": {},
   "outputs": [],
   "source": [
    "data = pd.read_csv('../fetch_california_housing.csv')"
   ]
  },
  {
   "cell_type": "code",
   "execution_count": 97,
   "metadata": {},
   "outputs": [],
   "source": [
    "X = data.drop('MEDV', axis = 1)\n",
    "y = data['MEDV']\n",
    "\n",
    "seed = 12"
   ]
  },
  {
   "cell_type": "code",
   "execution_count": 98,
   "metadata": {},
   "outputs": [
    {
     "data": {
      "text/plain": [
       "((20640, 8), (20640,))"
      ]
     },
     "execution_count": 98,
     "metadata": {},
     "output_type": "execute_result"
    }
   ],
   "source": [
    "X.shape, y.shape"
   ]
  },
  {
   "cell_type": "markdown",
   "metadata": {},
   "source": [
    "## 1. Split this data set into training (80%) and testing (20%) sets.\n",
    "\n",
    "The `MEDV` field represents the median value of owner-occupied homes (in $1000's) and is the target variable that we will want to predict."
   ]
  },
  {
   "cell_type": "code",
   "execution_count": 11,
   "metadata": {},
   "outputs": [],
   "source": [
    "X_train, X_test, y_train, y_test = train_test_split(X, \n",
    "                                                    y, \n",
    "                                                    train_size = 0.8, \n",
    "                                                    test_size = 0.2,\n",
    "                                                    random_state = seed)"
   ]
  },
  {
   "cell_type": "markdown",
   "metadata": {},
   "source": [
    "## 2. Train a `LinearRegression` model on this data set and generate predictions on both the training and the testing set."
   ]
  },
  {
   "cell_type": "code",
   "execution_count": 19,
   "metadata": {},
   "outputs": [],
   "source": [
    "reg = LinearRegression()\n",
    "\n",
    "reg.fit(X_train, y_train)\n",
    "\n",
    "y_pred_test_reg = reg.predict(X_test)\n",
    "y_pred_train_reg = reg.predict(X_train)"
   ]
  },
  {
   "cell_type": "markdown",
   "metadata": {},
   "source": [
    "## 3. Calculate and print R-squared for both the training and the testing set."
   ]
  },
  {
   "cell_type": "code",
   "execution_count": 24,
   "metadata": {},
   "outputs": [
    {
     "data": {
      "text/plain": [
       "True"
      ]
     },
     "execution_count": 24,
     "metadata": {},
     "output_type": "execute_result"
    }
   ],
   "source": [
    "reg.score(X_train, y_train) == r2_score(y_train, y_pred_train_reg)"
   ]
  },
  {
   "cell_type": "code",
   "execution_count": 30,
   "metadata": {},
   "outputs": [
    {
     "name": "stdout",
     "output_type": "stream",
     "text": [
      "Training Set: 0.6036        \n",
      "Testing Set: 0.6157\n"
     ]
    }
   ],
   "source": [
    "print(f'Training Set: {reg.score(X_train, y_train):.4f}\\\n",
    "        \\nTesting Set: {r2_score(y_test, y_pred_test_reg):.4f}')"
   ]
  },
  {
   "cell_type": "markdown",
   "metadata": {},
   "source": [
    "## 4. Calculate and print mean squared error for both the training and the testing set."
   ]
  },
  {
   "cell_type": "code",
   "execution_count": 31,
   "metadata": {},
   "outputs": [
    {
     "name": "stdout",
     "output_type": "stream",
     "text": [
      "Training Set: 0.5238        \n",
      "Testing Set: 0.5270\n"
     ]
    }
   ],
   "source": [
    "print(f'Training Set: {mean_squared_error(y_train, y_pred_train_reg):.4f}\\\n",
    "        \\nTesting Set: {mean_squared_error(y_test, y_pred_test_reg):.4f}')"
   ]
  },
  {
   "cell_type": "markdown",
   "metadata": {},
   "source": [
    "## 5. Calculate and print mean absolute error for both the training and the testing set."
   ]
  },
  {
   "cell_type": "code",
   "execution_count": 32,
   "metadata": {},
   "outputs": [
    {
     "name": "stdout",
     "output_type": "stream",
     "text": [
      "Training Set: 0.5312        \n",
      "Testing Set: 0.5318\n"
     ]
    }
   ],
   "source": [
    "print(f'Training Set: {mean_absolute_error(y_train, y_pred_train_reg):.4f}\\\n",
    "        \\nTesting Set: {mean_absolute_error(y_test, y_pred_test_reg):.4f}')"
   ]
  },
  {
   "cell_type": "markdown",
   "metadata": {},
   "source": [
    "## Classification Model Evaluation"
   ]
  },
  {
   "cell_type": "code",
   "execution_count": 103,
   "metadata": {},
   "outputs": [],
   "source": [
    "data = load_iris()\n",
    "\n",
    "X = pd.DataFrame(data[\"data\"], columns = data[\"feature_names\"])\n",
    "\n",
    "y = pd.DataFrame(data[\"target\"], columns = [\"class\"])\n",
    "\n",
    "data = pd.concat([X, y], axis = 1)"
   ]
  },
  {
   "cell_type": "code",
   "execution_count": 104,
   "metadata": {},
   "outputs": [
    {
     "data": {
      "text/plain": [
       "((150, 4), (150, 1))"
      ]
     },
     "execution_count": 104,
     "metadata": {},
     "output_type": "execute_result"
    }
   ],
   "source": [
    "X.shape, y.shape"
   ]
  },
  {
   "cell_type": "markdown",
   "metadata": {},
   "source": [
    "## 6. Split this data set into training (80%) and testing (20%) sets.\n",
    "\n",
    "The `class` field represents the type of flower and is the target variable that we will want to predict."
   ]
  },
  {
   "cell_type": "code",
   "execution_count": 47,
   "metadata": {},
   "outputs": [],
   "source": [
    "X_train, X_test, y_train, y_test = train_test_split(X, \n",
    "                                                    y, \n",
    "                                                    train_size = 0.8, \n",
    "                                                    test_size = 0.2,\n",
    "                                                    random_state = seed)"
   ]
  },
  {
   "cell_type": "markdown",
   "metadata": {},
   "source": [
    "## 7. Train a `LogisticRegression` model on this data set and generate predictions on both the training and the testing set."
   ]
  },
  {
   "cell_type": "code",
   "execution_count": 48,
   "metadata": {},
   "outputs": [],
   "source": [
    "clf = LogisticRegression()\n",
    "\n",
    "clf.fit(X_train, y_train)\n",
    "\n",
    "y_pred_train_clf = clf.predict(X_train)\n",
    "y_pred_test_clf = clf.predict(X_test)\n",
    "\n",
    "y_proba_train_clf = clf.predict_proba(X_train)\n",
    "y_proba_test_clf = clf.predict_proba(X_test)"
   ]
  },
  {
   "cell_type": "markdown",
   "metadata": {},
   "source": [
    "## 8. Calculate and print the accuracy score for both the training and the testing set."
   ]
  },
  {
   "cell_type": "code",
   "execution_count": 58,
   "metadata": {},
   "outputs": [
    {
     "name": "stdout",
     "output_type": "stream",
     "text": [
      "Training Set: 0.9750        \n",
      "Testing Set: 0.9667\n"
     ]
    }
   ],
   "source": [
    "print(f'Training Set: {accuracy_score(y_train, y_pred_train_clf):.4f}\\\n",
    "        \\nTesting Set: {accuracy_score(y_test, y_pred_test_clf):.4f}')"
   ]
  },
  {
   "cell_type": "markdown",
   "metadata": {},
   "source": [
    "## 9. Calculate and print the balanced accuracy score for both the training and the testing set."
   ]
  },
  {
   "cell_type": "code",
   "execution_count": 57,
   "metadata": {},
   "outputs": [
    {
     "name": "stdout",
     "output_type": "stream",
     "text": [
      "Training Set: 0.9756        \n",
      "Testing Set: 0.9630\n"
     ]
    }
   ],
   "source": [
    "print(f'Training Set: {balanced_accuracy_score(y_train, y_pred_train_clf):.4f}\\\n",
    "        \\nTesting Set: {balanced_accuracy_score(y_test, y_pred_test_clf):.4f}')"
   ]
  },
  {
   "cell_type": "markdown",
   "metadata": {},
   "source": [
    "## 10. Calculate and print the precision score for both the training and the testing set."
   ]
  },
  {
   "cell_type": "code",
   "execution_count": 70,
   "metadata": {},
   "outputs": [],
   "source": [
    "# help(precision_score)"
   ]
  },
  {
   "cell_type": "raw",
   "metadata": {},
   "source": [
    " average : {'micro', 'macro', 'samples', 'weighted', 'binary'} or None,             default='binary'\n",
    "        This parameter is required for multiclass/multilabel targets.\n",
    "        If ``None``, the scores for each class are returned. Otherwise, this\n",
    "        determines the type of averaging performed on the data:\n",
    "    \n",
    "        ``'binary'``:\n",
    "            Only report results for the class specified by ``pos_label``.\n",
    "            This is applicable only if targets (``y_{true,pred}``) are binary.\n",
    "        ``'micro'``:\n",
    "            Calculate metrics globally by counting the total true positives,\n",
    "            false negatives and false positives.\n",
    "        ``'macro'``:\n",
    "            Calculate metrics for each label, and find their unweighted\n",
    "            mean.  This does not take label imbalance into account.\n",
    "        ``'weighted'``:\n",
    "            Calculate metrics for each label, and find their average weighted\n",
    "            by support (the number of true instances for each label). This\n",
    "            alters 'macro' to account for label imbalance; it can result in an\n",
    "            F-score that is not between precision and recall.\n",
    "        ``'samples'``:\n",
    "            Calculate metrics for each instance, and find their average (only\n",
    "            meaningful for multilabel classification where this differs from\n",
    "            :func:`accuracy_score`)."
   ]
  },
  {
   "cell_type": "code",
   "execution_count": 73,
   "metadata": {},
   "outputs": [
    {
     "name": "stdout",
     "output_type": "stream",
     "text": [
      "Training Set: [1.         0.975      0.95238095]        \n",
      "Testing Set: [1.  1.  0.9]\n"
     ]
    }
   ],
   "source": [
    "print(f'Training Set: {precision_score(y_train, y_pred_train_clf, average = None)}\\\n",
    "        \\nTesting Set: {precision_score(y_test, y_pred_test_clf, average = None)}')"
   ]
  },
  {
   "cell_type": "markdown",
   "metadata": {},
   "source": [
    "## 11. Calculate and print the recall score for both the training and the testing set."
   ]
  },
  {
   "cell_type": "code",
   "execution_count": 77,
   "metadata": {},
   "outputs": [
    {
     "name": "stdout",
     "output_type": "stream",
     "text": [
      "Training Set: [1.         0.95121951 0.97560976]        \n",
      "Testing Set: [1.         0.88888889 1.        ]\n"
     ]
    }
   ],
   "source": [
    "print(f'Training Set: {recall_score(y_train, y_pred_train_clf, average = None)}\\\n",
    "        \\nTesting Set: {recall_score(y_test, y_pred_test_clf, average = None)}')"
   ]
  },
  {
   "cell_type": "markdown",
   "metadata": {},
   "source": [
    "## 12. Calculate and print the F1 score for both the training and the testing set."
   ]
  },
  {
   "cell_type": "code",
   "execution_count": 80,
   "metadata": {},
   "outputs": [
    {
     "name": "stdout",
     "output_type": "stream",
     "text": [
      "Training Set: [1.         0.96296296 0.96385542]        \n",
      "Testing Set: [1.         0.94117647 0.94736842]\n"
     ]
    }
   ],
   "source": [
    "print(f'Training Set: {f1_score(y_train, y_pred_train_clf, average = None)}\\\n",
    "        \\nTesting Set: {f1_score(y_test, y_pred_test_clf, average = None)}')"
   ]
  },
  {
   "cell_type": "markdown",
   "metadata": {},
   "source": [
    "## 13. Generate confusion matrices for both the training and the testing set."
   ]
  },
  {
   "cell_type": "code",
   "execution_count": 92,
   "metadata": {},
   "outputs": [],
   "source": [
    "def plot_norm_conf_matrix(y_test, y_pred):\n",
    "    \"\"\"\n",
    "    Plots a confusion matrix for evaluating the performance of a classification model.\n",
    "\n",
    "    Parameters:\n",
    "    - y_test (array-like): True labels from the test set.\n",
    "    - y_pred (array-like): Predicted labels from the model.\n",
    "\n",
    "    Returns:\n",
    "    None\n",
    "\n",
    "    This function uses the seaborn library to create a heatmap of the confusion matrix,\n",
    "    providing a visual representation of the model's performance on the given test data.\n",
    "    The matrix shows the counts of true positive, true negative, false positive, and false negative predictions.\n",
    "    \"\"\"\n",
    "    fig = plt.figure(facecolor = 'none', figsize = (5, 5))\n",
    "    ax = fig.add_subplot(111, facecolor = 'none')\n",
    "\n",
    "    sns.heatmap(confusion_matrix(y_test, y_pred)/confusion_matrix(y_test, y_pred).sum(),\n",
    "                cmap = 'Greys',\n",
    "                square = True,\n",
    "                center = 0,\n",
    "                annot = True).set(xlabel = \"Test\", \n",
    "                                  ylabel = \"Predicted\")\n",
    "\n",
    "    ax.tick_params(axis = 'both', \n",
    "                   colors = 'grey')\n",
    "    ax.xaxis.label.set_color('grey')\n",
    "    ax.yaxis.label.set_color('grey')\n",
    "    plt.show();"
   ]
  },
  {
   "cell_type": "code",
   "execution_count": 94,
   "metadata": {},
   "outputs": [
    {
     "data": {
      "image/png": "[encoded data removed]",
      "text/plain": [
       "<Figure size 500x500 with 2 Axes>"
      ]
     },
     "metadata": {},
     "output_type": "display_data"
    }
   ],
   "source": [
    "plot_norm_conf_matrix(y_train, y_pred_train_clf)"
   ]
  },
  {
   "cell_type": "code",
   "execution_count": 93,
   "metadata": {},
   "outputs": [
    {
     "data": {
      "image/png": "[encoded data removed]",
      "text/plain": [
       "<Figure size 500x500 with 2 Axes>"
      ]
     },
     "metadata": {},
     "output_type": "display_data"
    }
   ],
   "source": [
    "plot_norm_conf_matrix(y_test, y_pred_test_clf)"
   ]
  },
  {
   "cell_type": "markdown",
   "metadata": {},
   "source": [
    "## Bonus: For each of the data sets in this lab, try training with some of the other models you have learned about, recalculate the evaluation metrics, and compare to determine which models perform best on each data set."
   ]
  },
  {
   "cell_type": "markdown",
   "metadata": {},
   "source": [
    "## Regressions of houses\n",
    "\n",
    "Model Comparison:\n",
    "\n",
    "    GradientBoostingRegressor()\n",
    "    ElasticNet()\n",
    "    Lasso()\n",
    "    Ridge()\n",
    "    MLPRegressor()\n",
    "    KNeighborsRegressor()\n",
    "    LinearSVR()\n",
    "    RandomForestRegressor()\n",
    "    SVR()\n",
    "    LinearRegression()"
   ]
  },
  {
   "cell_type": "code",
   "execution_count": 123,
   "metadata": {},
   "outputs": [],
   "source": [
    "data = pd.read_csv('../fetch_california_housing.csv')\n",
    "\n",
    "X = data.drop('MEDV', axis = 1)\n",
    "y = data['MEDV']\n",
    "\n",
    "X_train, X_test, y_train, y_test = train_test_split(X, \n",
    "                                                    y, \n",
    "                                                    train_size = 0.8, \n",
    "                                                    test_size = 0.2,\n",
    "                                                    random_state = seed)"
   ]
  },
  {
   "cell_type": "code",
   "execution_count": 124,
   "metadata": {},
   "outputs": [],
   "source": [
    "models = {'GrBoo': GradientBoostingRegressor(),\n",
    "          'ElN': ElasticNet(),\n",
    "          'Las': Lasso(),\n",
    "          'Rid': Ridge(),\n",
    "          'MLP': MLPRegressor(),\n",
    "          'KNR': KNeighborsRegressor(),\n",
    "          'lSVR': LinearSVR(),\n",
    "          'RF': RandomForestRegressor(),\n",
    "          'SVR': SVR(),\n",
    "          'lReg': LinearRegression()}"
   ]
  },
  {
   "cell_type": "code",
   "execution_count": 125,
   "metadata": {},
   "outputs": [],
   "source": [
    "def fit_and_score(models, X_train = X_train, X_test = X_test, y_train = y_train, y_test = y_test):\n",
    "    \"\"\"\n",
    "    Fits the given machine learning models to the training data and evaluates their performance on the test data.\n",
    "\n",
    "    Parameters:\n",
    "    - models (dict): A dictionary where keys are model names and values are the corresponding machine learning models.\n",
    "    - X_train (array-like): Feature matrix of the training set.\n",
    "    - X_test (array-like): Feature matrix of the test set.\n",
    "    - y_train (array-like): True labels of the training set.\n",
    "    - y_test (array-like): True labels of the test set.\n",
    "\n",
    "    Returns:\n",
    "    dict: A dictionary where keys are model names and values are their corresponding accuracy scores on the test set.\n",
    "\n",
    "    This function takes a dictionary of machine learning models and fits each model to the training data.\n",
    "    It then evaluates the performance of each model on the provided test data using the `score` method, \n",
    "    and returns a dictionary of model names and their corresponding accuracy scores.\n",
    "    \"\"\"\n",
    "    model_scores = {}\n",
    "    for name, model in models.items():\n",
    "        model.fit(X_train, y_train)\n",
    "        model_scores[name] = round(model.score(X_test, y_test), 2)\n",
    "    return model_scores "
   ]
  },
  {
   "cell_type": "code",
   "execution_count": 133,
   "metadata": {},
   "outputs": [],
   "source": [
    "model_scores = fit_and_score(models = models)"
   ]
  },
  {
   "cell_type": "code",
   "execution_count": 134,
   "metadata": {},
   "outputs": [
    {
     "data": {
      "text/html": [
       "<div>\n",
       "<style scoped>\n",
       "    .dataframe tbody tr th:only-of-type {\n",
       "        vertical-align: middle;\n",
       "    }\n",
       "\n",
       "    .dataframe tbody tr th {\n",
       "        vertical-align: top;\n",
       "    }\n",
       "\n",
       "    .dataframe thead th {\n",
       "        text-align: right;\n",
       "    }\n",
       "</style>\n",
       "<table border=\"1\" class=\"dataframe\">\n",
       "  <thead>\n",
       "    <tr style=\"text-align: right;\">\n",
       "      <th></th>\n",
       "      <th>Model</th>\n",
       "      <th>R2</th>\n",
       "    </tr>\n",
       "  </thead>\n",
       "  <tbody>\n",
       "    <tr>\n",
       "      <th>0</th>\n",
       "      <td>GrBoo</td>\n",
       "      <td>0.80</td>\n",
       "    </tr>\n",
       "    <tr>\n",
       "      <th>1</th>\n",
       "      <td>ElN</td>\n",
       "      <td>0.43</td>\n",
       "    </tr>\n",
       "    <tr>\n",
       "      <th>2</th>\n",
       "      <td>Las</td>\n",
       "      <td>0.29</td>\n",
       "    </tr>\n",
       "    <tr>\n",
       "      <th>3</th>\n",
       "      <td>Rid</td>\n",
       "      <td>0.62</td>\n",
       "    </tr>\n",
       "    <tr>\n",
       "      <th>4</th>\n",
       "      <td>MLP</td>\n",
       "      <td>0.50</td>\n",
       "    </tr>\n",
       "    <tr>\n",
       "      <th>5</th>\n",
       "      <td>KNR</td>\n",
       "      <td>0.16</td>\n",
       "    </tr>\n",
       "    <tr>\n",
       "      <th>7</th>\n",
       "      <td>RF</td>\n",
       "      <td>0.82</td>\n",
       "    </tr>\n",
       "    <tr>\n",
       "      <th>9</th>\n",
       "      <td>lReg</td>\n",
       "      <td>0.62</td>\n",
       "    </tr>\n",
       "  </tbody>\n",
       "</table>\n",
       "</div>"
      ],
      "text/plain": [
       "   Model    R2\n",
       "0  GrBoo  0.80\n",
       "1    ElN  0.43\n",
       "2    Las  0.29\n",
       "3    Rid  0.62\n",
       "4    MLP  0.50\n",
       "5    KNR  0.16\n",
       "7     RF  0.82\n",
       "9   lReg  0.62"
      ]
     },
     "execution_count": 134,
     "metadata": {},
     "output_type": "execute_result"
    }
   ],
   "source": [
    "model_df = pd.DataFrame(model_scores.items(), columns=[\"Model\", \"R2\"])\n",
    "model_df = model_df[model_df['R2'] >= 0]\n",
    "model_df"
   ]
  },
  {
   "cell_type": "code",
   "execution_count": 136,
   "metadata": {},
   "outputs": [
    {
     "data": {
      "image/png": "[encoded data removed]",
      "text/plain": [
       "<Figure size 500x500 with 1 Axes>"
      ]
     },
     "metadata": {
      "needs_background": "dark"
     },
     "output_type": "display_data"
    }
   ],
   "source": [
    "fig = plt.figure(facecolor = 'none', figsize = (5, 5))\n",
    "ax = fig.add_subplot(111, facecolor = 'none')\n",
    "\n",
    "xaxis = model_df['Model']\n",
    "yaxis = model_df['R2']\n",
    "\n",
    "sns.barplot(x = xaxis, \n",
    "            y = yaxis,\n",
    "            color = 'grey')\n",
    "\n",
    "ax.bar_label(ax.containers[0], \n",
    "             label_type = 'center',\n",
    "             color = 'black')\n",
    "\n",
    "ax.set_ylim(0, 1)\n",
    "ax.set_xticklabels(labels = xaxis, \n",
    "                   rotation = 45)\n",
    "ax.set_ylabel('R2 Score', \n",
    "              fontsize = 12)\n",
    "ax.set_xlabel('')\n",
    "ax.tick_params(axis = 'both', \n",
    "               colors = 'grey')\n",
    "ax.xaxis.label.set_color('grey')\n",
    "ax.yaxis.label.set_color('grey')\n",
    "ax.spines['bottom'].set_color('grey')\n",
    "ax.spines['top'].set_color('grey')\n",
    "ax.spines['right'].set_color('grey')\n",
    "ax.spines['left'].set_color('grey')\n",
    "\n",
    "plt.show();"
   ]
  },
  {
   "cell_type": "markdown",
   "metadata": {},
   "source": [
    "## Classification of Flowers\n",
    "\n",
    "Model Comparison:\n",
    "\n",
    "    DecisionTreeClassifier()\n",
    "    RandomForestClassifier()\n",
    "    SVC(kernel=\"rbf\")\n",
    "    SVC(kernel=\"linear\")\n",
    "    KNeighborsClassifier()\n",
    "    LogisticRegression()"
   ]
  },
  {
   "cell_type": "code",
   "execution_count": 106,
   "metadata": {},
   "outputs": [],
   "source": [
    "data = load_iris()\n",
    "\n",
    "X = pd.DataFrame(data[\"data\"], columns = data[\"feature_names\"])\n",
    "y = pd.DataFrame(data[\"target\"], columns = [\"class\"])\n",
    "\n",
    "X_train, X_test, y_train, y_test = train_test_split(X, \n",
    "                                                    y, \n",
    "                                                    train_size = 0.8, \n",
    "                                                    test_size = 0.2,\n",
    "                                                    random_state = seed)"
   ]
  },
  {
   "cell_type": "code",
   "execution_count": 107,
   "metadata": {},
   "outputs": [],
   "source": [
    "models = {\"dtc\": DecisionTreeClassifier(),\n",
    "          \"rfc\": RandomForestClassifier(),\n",
    "          \"svcr\": SVC(kernel=\"rbf\"),\n",
    "          \"svcl\": SVC(kernel=\"linear\"),\n",
    "          \"knc\": KNeighborsClassifier(),\n",
    "          \"logr\": LogisticRegression()}"
   ]
  },
  {
   "cell_type": "code",
   "execution_count": 119,
   "metadata": {},
   "outputs": [],
   "source": [
    "def fit_and_score(models, X_train = X_train, X_test = X_test, y_train = y_train, y_test = y_test):\n",
    "    \"\"\"\n",
    "    Fits the given machine learning models to the training data and evaluates their performance on the test data.\n",
    "\n",
    "    Parameters:\n",
    "    - models (dict): A dictionary where keys are model names and values are the corresponding machine learning models.\n",
    "    - X_train (array-like): Feature matrix of the training set.\n",
    "    - X_test (array-like): Feature matrix of the test set.\n",
    "    - y_train (array-like): True labels of the training set.\n",
    "    - y_test (array-like): True labels of the test set.\n",
    "\n",
    "    Returns:\n",
    "    dict: A dictionary where keys are model names and values are their corresponding accuracy scores on the test set.\n",
    "\n",
    "    This function takes a dictionary of machine learning models and fits each model to the training data.\n",
    "    It then evaluates the performance of each model on the provided test data using the `score` method, \n",
    "    and returns a dictionary of model names and their corresponding accuracy scores.\n",
    "    \"\"\"\n",
    "    model_scores = {}\n",
    "    for name, model in models.items():\n",
    "        model.fit(X_train, y_train)\n",
    "        model_scores[name] = round(model.score(X_test, y_test), 2)\n",
    "    return model_scores   "
   ]
  },
  {
   "cell_type": "code",
   "execution_count": 109,
   "metadata": {},
   "outputs": [],
   "source": [
    "model_scores = fit_and_score(models = models)"
   ]
  },
  {
   "cell_type": "code",
   "execution_count": 112,
   "metadata": {},
   "outputs": [
    {
     "data": {
      "text/html": [
       "<div>\n",
       "<style scoped>\n",
       "    .dataframe tbody tr th:only-of-type {\n",
       "        vertical-align: middle;\n",
       "    }\n",
       "\n",
       "    .dataframe tbody tr th {\n",
       "        vertical-align: top;\n",
       "    }\n",
       "\n",
       "    .dataframe thead th {\n",
       "        text-align: right;\n",
       "    }\n",
       "</style>\n",
       "<table border=\"1\" class=\"dataframe\">\n",
       "  <thead>\n",
       "    <tr style=\"text-align: right;\">\n",
       "      <th></th>\n",
       "      <th>Model</th>\n",
       "      <th>Accuracy</th>\n",
       "    </tr>\n",
       "  </thead>\n",
       "  <tbody>\n",
       "    <tr>\n",
       "      <th>0</th>\n",
       "      <td>dtc</td>\n",
       "      <td>0.93</td>\n",
       "    </tr>\n",
       "    <tr>\n",
       "      <th>1</th>\n",
       "      <td>rfc</td>\n",
       "      <td>0.93</td>\n",
       "    </tr>\n",
       "    <tr>\n",
       "      <th>2</th>\n",
       "      <td>svcr</td>\n",
       "      <td>0.97</td>\n",
       "    </tr>\n",
       "    <tr>\n",
       "      <th>3</th>\n",
       "      <td>svcl</td>\n",
       "      <td>1.00</td>\n",
       "    </tr>\n",
       "    <tr>\n",
       "      <th>4</th>\n",
       "      <td>knc</td>\n",
       "      <td>0.97</td>\n",
       "    </tr>\n",
       "    <tr>\n",
       "      <th>5</th>\n",
       "      <td>logr</td>\n",
       "      <td>0.97</td>\n",
       "    </tr>\n",
       "  </tbody>\n",
       "</table>\n",
       "</div>"
      ],
      "text/plain": [
       "  Model  Accuracy\n",
       "0   dtc      0.93\n",
       "1   rfc      0.93\n",
       "2  svcr      0.97\n",
       "3  svcl      1.00\n",
       "4   knc      0.97\n",
       "5  logr      0.97"
      ]
     },
     "execution_count": 112,
     "metadata": {},
     "output_type": "execute_result"
    }
   ],
   "source": [
    "model_df = pd.DataFrame(model_scores.items(), columns=[\"Model\", \"Accuracy\"])\n",
    "model_df"
   ]
  },
  {
   "cell_type": "code",
   "execution_count": 118,
   "metadata": {},
   "outputs": [
    {
     "data": {
      "image/png": "[encoded data removed]",
      "text/plain": [
       "<Figure size 500x500 with 1 Axes>"
      ]
     },
     "metadata": {
      "needs_background": "dark"
     },
     "output_type": "display_data"
    }
   ],
   "source": [
    "fig = plt.figure(facecolor = 'none', figsize = (5, 5))\n",
    "ax = fig.add_subplot(111, facecolor = 'none')\n",
    "\n",
    "xaxis = model_df['Model']\n",
    "yaxis = model_df['Accuracy']\n",
    "\n",
    "sns.barplot(x = xaxis, \n",
    "            y = yaxis,\n",
    "            color = 'grey')\n",
    "\n",
    "ax.bar_label(ax.containers[0], \n",
    "             label_type = 'center',\n",
    "             color = 'black')\n",
    "\n",
    "ax.set_ylim(0, 1)\n",
    "ax.set_xticklabels(labels = xaxis, \n",
    "                   rotation = 45)\n",
    "ax.set_ylabel('Accuracy', \n",
    "              fontsize = 12)\n",
    "ax.set_xlabel('')\n",
    "ax.tick_params(axis = 'both', \n",
    "               colors = 'grey')\n",
    "ax.xaxis.label.set_color('grey')\n",
    "ax.yaxis.label.set_color('grey')\n",
    "ax.spines['bottom'].set_color('grey')\n",
    "ax.spines['top'].set_color('grey')\n",
    "ax.spines['right'].set_color('grey')\n",
    "ax.spines['left'].set_color('grey')\n",
    "\n",
    "plt.show();"
   ]
  }
 ],
 "metadata": {
  "kernelspec": {
   "display_name": "Python 3 (ipykernel)",
   "language": "python",
   "name": "python3"
  },
  "language_info": {
   "codemirror_mode": {
    "name": "ipython",
    "version": 3
   },
   "file_extension": ".py",
   "mimetype": "text/x-python",
   "name": "python",
   "nbconvert_exporter": "python",
   "pygments_lexer": "ipython3",
   "version": "3.11.4"
  },
  "toc": {
   "base_numbering": 1,
   "nav_menu": {},
   "number_sections": true,
   "sideBar": true,
   "skip_h1_title": false,
   "title_cell": "Table of Contents",
   "title_sidebar": "Contents",
   "toc_cell": false,
   "toc_position": {},
   "toc_section_display": true,
   "toc_window_display": false
  }
 },
 "nbformat": 4,
 "nbformat_minor": 2
}
