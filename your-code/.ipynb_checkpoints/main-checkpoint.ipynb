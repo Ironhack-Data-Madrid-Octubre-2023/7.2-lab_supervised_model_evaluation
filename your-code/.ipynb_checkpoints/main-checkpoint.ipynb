{
 "cells": [
  {
   "cell_type": "markdown",
   "metadata": {},
   "source": [
    "# Supervised Learning Model Evaluation Lab\n",
    "\n",
    "Complete the exercises below to solidify your knowledge and understanding of supervised learning model evaluation."
   ]
  },
  {
   "cell_type": "code",
   "execution_count": 86,
   "metadata": {},
   "outputs": [],
   "source": [
    "import pandas as pd\n",
    "import pylab as plt\n",
    "import seaborn as sns\n",
    "\n",
    "from sklearn.datasets import load_iris\n",
    "\n",
    "from sklearn.model_selection import train_test_split\n",
    "from sklearn.linear_model import LinearRegression, LogisticRegression\n",
    "from sklearn.metrics import r2_score, mean_squared_error, mean_absolute_error, \\\n",
    "accuracy_score, balanced_accuracy_score, precision_score, recall_score, f1_score, confusion_matrix\n",
    "\n",
    "import warnings\n",
    "warnings.filterwarnings('ignore')"
   ]
  },
  {
   "cell_type": "markdown",
   "metadata": {},
   "source": [
    "## Regression Model Evaluation"
   ]
  },
  {
   "cell_type": "code",
   "execution_count": 9,
   "metadata": {},
   "outputs": [],
   "source": [
    "data = pd.read_csv('../fetch_california_housing.csv')"
   ]
  },
  {
   "cell_type": "code",
   "execution_count": 10,
   "metadata": {},
   "outputs": [],
   "source": [
    "X = data.drop('MEDV', axis = 1)\n",
    "y = data['MEDV']\n",
    "\n",
    "seed = 12"
   ]
  },
  {
   "cell_type": "markdown",
   "metadata": {},
   "source": [
    "## 1. Split this data set into training (80%) and testing (20%) sets.\n",
    "\n",
    "The `MEDV` field represents the median value of owner-occupied homes (in $1000's) and is the target variable that we will want to predict."
   ]
  },
  {
   "cell_type": "code",
   "execution_count": 11,
   "metadata": {},
   "outputs": [],
   "source": [
    "X_train, X_test, y_train, y_test = train_test_split(X, \n",
    "                                                    y, \n",
    "                                                    train_size = 0.8, \n",
    "                                                    test_size = 0.2,\n",
    "                                                    random_state = seed)"
   ]
  },
  {
   "cell_type": "markdown",
   "metadata": {},
   "source": [
    "## 2. Train a `LinearRegression` model on this data set and generate predictions on both the training and the testing set."
   ]
  },
  {
   "cell_type": "code",
   "execution_count": 19,
   "metadata": {},
   "outputs": [],
   "source": [
    "reg = LinearRegression()\n",
    "\n",
    "reg.fit(X_train, y_train)\n",
    "\n",
    "y_pred_test_reg = reg.predict(X_test)\n",
    "y_pred_train_reg = reg.predict(X_train)"
   ]
  },
  {
   "cell_type": "markdown",
   "metadata": {},
   "source": [
    "## 3. Calculate and print R-squared for both the training and the testing set."
   ]
  },
  {
   "cell_type": "code",
   "execution_count": 24,
   "metadata": {},
   "outputs": [
    {
     "data": {
      "text/plain": [
       "True"
      ]
     },
     "execution_count": 24,
     "metadata": {},
     "output_type": "execute_result"
    }
   ],
   "source": [
    "reg.score(X_train, y_train) == r2_score(y_train, y_pred_train_reg)"
   ]
  },
  {
   "cell_type": "code",
   "execution_count": 30,
   "metadata": {},
   "outputs": [
    {
     "name": "stdout",
     "output_type": "stream",
     "text": [
      "Training Set: 0.6036        \n",
      "Testing Set: 0.6157\n"
     ]
    }
   ],
   "source": [
    "print(f'Training Set: {reg.score(X_train, y_train):.4f}\\\n",
    "        \\nTesting Set: {r2_score(y_test, y_pred_test_reg):.4f}')"
   ]
  },
  {
   "cell_type": "markdown",
   "metadata": {},
   "source": [
    "## 4. Calculate and print mean squared error for both the training and the testing set."
   ]
  },
  {
   "cell_type": "code",
   "execution_count": 31,
   "metadata": {},
   "outputs": [
    {
     "name": "stdout",
     "output_type": "stream",
     "text": [
      "Training Set: 0.5238        \n",
      "Testing Set: 0.5270\n"
     ]
    }
   ],
   "source": [
    "print(f'Training Set: {mean_squared_error(y_train, y_pred_train_reg):.4f}\\\n",
    "        \\nTesting Set: {mean_squared_error(y_test, y_pred_test_reg):.4f}')"
   ]
  },
  {
   "cell_type": "markdown",
   "metadata": {},
   "source": [
    "## 5. Calculate and print mean absolute error for both the training and the testing set."
   ]
  },
  {
   "cell_type": "code",
   "execution_count": 32,
   "metadata": {},
   "outputs": [
    {
     "name": "stdout",
     "output_type": "stream",
     "text": [
      "Training Set: 0.5312        \n",
      "Testing Set: 0.5318\n"
     ]
    }
   ],
   "source": [
    "print(f'Training Set: {mean_absolute_error(y_train, y_pred_train_reg):.4f}\\\n",
    "        \\nTesting Set: {mean_absolute_error(y_test, y_pred_test_reg):.4f}')"
   ]
  },
  {
   "cell_type": "markdown",
   "metadata": {},
   "source": [
    "## Classification Model Evaluation"
   ]
  },
  {
   "cell_type": "code",
   "execution_count": 46,
   "metadata": {},
   "outputs": [],
   "source": [
    "data = load_iris()\n",
    "\n",
    "X = pd.DataFrame(data[\"data\"], \n",
    "                 columns = data[\"feature_names\"])\n",
    "\n",
    "y = pd.DataFrame(data[\"target\"], \n",
    "                 columns = [\"class\"])\n",
    "\n",
    "data = pd.concat([X, y], \n",
    "                 axis = 1)"
   ]
  },
  {
   "cell_type": "markdown",
   "metadata": {},
   "source": [
    "## 6. Split this data set into training (80%) and testing (20%) sets.\n",
    "\n",
    "The `class` field represents the type of flower and is the target variable that we will want to predict."
   ]
  },
  {
   "cell_type": "code",
   "execution_count": 47,
   "metadata": {},
   "outputs": [],
   "source": [
    "X_train, X_test, y_train, y_test = train_test_split(X, \n",
    "                                                    y, \n",
    "                                                    train_size = 0.8, \n",
    "                                                    test_size = 0.2,\n",
    "                                                    random_state = seed)"
   ]
  },
  {
   "cell_type": "markdown",
   "metadata": {},
   "source": [
    "## 7. Train a `LogisticRegression` model on this data set and generate predictions on both the training and the testing set."
   ]
  },
  {
   "cell_type": "code",
   "execution_count": 48,
   "metadata": {},
   "outputs": [],
   "source": [
    "clf = LogisticRegression()\n",
    "\n",
    "clf.fit(X_train, y_train)\n",
    "\n",
    "y_pred_train_clf = clf.predict(X_train)\n",
    "y_pred_test_clf = clf.predict(X_test)\n",
    "\n",
    "y_proba_train_clf = clf.predict_proba(X_train)\n",
    "y_proba_test_clf = clf.predict_proba(X_test)"
   ]
  },
  {
   "cell_type": "markdown",
   "metadata": {},
   "source": [
    "## 8. Calculate and print the accuracy score for both the training and the testing set."
   ]
  },
  {
   "cell_type": "code",
   "execution_count": 58,
   "metadata": {},
   "outputs": [
    {
     "name": "stdout",
     "output_type": "stream",
     "text": [
      "Training Set: 0.9750        \n",
      "Testing Set: 0.9667\n"
     ]
    }
   ],
   "source": [
    "print(f'Training Set: {accuracy_score(y_train, y_pred_train_clf):.4f}\\\n",
    "        \\nTesting Set: {accuracy_score(y_test, y_pred_test_clf):.4f}')"
   ]
  },
  {
   "cell_type": "markdown",
   "metadata": {},
   "source": [
    "## 9. Calculate and print the balanced accuracy score for both the training and the testing set."
   ]
  },
  {
   "cell_type": "code",
   "execution_count": 57,
   "metadata": {},
   "outputs": [
    {
     "name": "stdout",
     "output_type": "stream",
     "text": [
      "Training Set: 0.9756        \n",
      "Testing Set: 0.9630\n"
     ]
    }
   ],
   "source": [
    "print(f'Training Set: {balanced_accuracy_score(y_train, y_pred_train_clf):.4f}\\\n",
    "        \\nTesting Set: {balanced_accuracy_score(y_test, y_pred_test_clf):.4f}')"
   ]
  },
  {
   "cell_type": "markdown",
   "metadata": {},
   "source": [
    "## 10. Calculate and print the precision score for both the training and the testing set."
   ]
  },
  {
   "cell_type": "code",
   "execution_count": 70,
   "metadata": {},
   "outputs": [],
   "source": [
    "# help(precision_score)"
   ]
  },
  {
   "cell_type": "raw",
   "metadata": {},
   "source": [
    " average : {'micro', 'macro', 'samples', 'weighted', 'binary'} or None,             default='binary'\n",
    "        This parameter is required for multiclass/multilabel targets.\n",
    "        If ``None``, the scores for each class are returned. Otherwise, this\n",
    "        determines the type of averaging performed on the data:\n",
    "    \n",
    "        ``'binary'``:\n",
    "            Only report results for the class specified by ``pos_label``.\n",
    "            This is applicable only if targets (``y_{true,pred}``) are binary.\n",
    "        ``'micro'``:\n",
    "            Calculate metrics globally by counting the total true positives,\n",
    "            false negatives and false positives.\n",
    "        ``'macro'``:\n",
    "            Calculate metrics for each label, and find their unweighted\n",
    "            mean.  This does not take label imbalance into account.\n",
    "        ``'weighted'``:\n",
    "            Calculate metrics for each label, and find their average weighted\n",
    "            by support (the number of true instances for each label). This\n",
    "            alters 'macro' to account for label imbalance; it can result in an\n",
    "            F-score that is not between precision and recall.\n",
    "        ``'samples'``:\n",
    "            Calculate metrics for each instance, and find their average (only\n",
    "            meaningful for multilabel classification where this differs from\n",
    "            :func:`accuracy_score`)."
   ]
  },
  {
   "cell_type": "code",
   "execution_count": 73,
   "metadata": {},
   "outputs": [
    {
     "name": "stdout",
     "output_type": "stream",
     "text": [
      "Training Set: [1.         0.975      0.95238095]        \n",
      "Testing Set: [1.  1.  0.9]\n"
     ]
    }
   ],
   "source": [
    "print(f'Training Set: {precision_score(y_train, y_pred_train_clf, average = None)}\\\n",
    "        \\nTesting Set: {precision_score(y_test, y_pred_test_clf, average = None)}')"
   ]
  },
  {
   "cell_type": "markdown",
   "metadata": {},
   "source": [
    "## 11. Calculate and print the recall score for both the training and the testing set."
   ]
  },
  {
   "cell_type": "code",
   "execution_count": 77,
   "metadata": {},
   "outputs": [
    {
     "name": "stdout",
     "output_type": "stream",
     "text": [
      "Training Set: [1.         0.95121951 0.97560976]        \n",
      "Testing Set: [1.         0.88888889 1.        ]\n"
     ]
    }
   ],
   "source": [
    "print(f'Training Set: {recall_score(y_train, y_pred_train_clf, average = None)}\\\n",
    "        \\nTesting Set: {recall_score(y_test, y_pred_test_clf, average = None)}')"
   ]
  },
  {
   "cell_type": "markdown",
   "metadata": {},
   "source": [
    "## 12. Calculate and print the F1 score for both the training and the testing set."
   ]
  },
  {
   "cell_type": "code",
   "execution_count": 80,
   "metadata": {},
   "outputs": [
    {
     "name": "stdout",
     "output_type": "stream",
     "text": [
      "Training Set: [1.         0.96296296 0.96385542]        \n",
      "Testing Set: [1.         0.94117647 0.94736842]\n"
     ]
    }
   ],
   "source": [
    "print(f'Training Set: {f1_score(y_train, y_pred_train_clf, average = None)}\\\n",
    "        \\nTesting Set: {f1_score(y_test, y_pred_test_clf, average = None)}')"
   ]
  },
  {
   "cell_type": "markdown",
   "metadata": {},
   "source": [
    "## 13. Generate confusion matrices for both the training and the testing set."
   ]
  },
  {
   "cell_type": "code",
   "execution_count": 87,
   "metadata": {},
   "outputs": [],
   "source": [
    "def plot_conf_matrix(y_test, y_pred):\n",
    "    \"\"\"\n",
    "    Plots a confusion matrix for evaluating the performance of a classification model.\n",
    "\n",
    "    Parameters:\n",
    "    - y_test (array-like): True labels from the test set.\n",
    "    - y_pred (array-like): Predicted labels from the model.\n",
    "\n",
    "    Returns:\n",
    "    None\n",
    "\n",
    "    This function uses the seaborn library to create a heatmap of the confusion matrix,\n",
    "    providing a visual representation of the model's performance on the given test data.\n",
    "    The matrix shows the counts of true positive, true negative, false positive, and false negative predictions.\n",
    "    \"\"\"\n",
    "    fig = plt.figure(facecolor = 'none', figsize = (5, 5))\n",
    "    ax = fig.add_subplot(111, facecolor = 'none')\n",
    "\n",
    "    sns.heatmap(confusion_matrix(y_test, y_pred),\n",
    "                cmap = 'Greys',\n",
    "                square = True,\n",
    "                center = 0,\n",
    "                annot = True).set(xlabel = \"Test\", \n",
    "                                  ylabel = \"Predicted\")\n",
    "\n",
    "    ax.tick_params(axis = 'both', \n",
    "                   colors = 'grey')\n",
    "    ax.xaxis.label.set_color('grey')\n",
    "    ax.yaxis.label.set_color('grey')\n",
    "    plt.show();"
   ]
  },
  {
   "cell_type": "code",
   "execution_count": 90,
   "metadata": {},
   "outputs": [
    {
     "data": {
      "image/png": "[encoded data removed]",
      "text/plain": [
       "<Figure size 500x500 with 2 Axes>"
      ]
     },
     "metadata": {},
     "output_type": "display_data"
    }
   ],
   "source": [
    "plot_conf_matrix(y_train, y_pred_train_clf)"
   ]
  },
  {
   "cell_type": "code",
   "execution_count": 91,
   "metadata": {},
   "outputs": [
    {
     "data": {
      "image/png": "[encoded data removed]",
      "text/plain": [
       "<Figure size 500x500 with 2 Axes>"
      ]
     },
     "metadata": {},
     "output_type": "display_data"
    }
   ],
   "source": [
    "plot_conf_matrix(y_test, y_pred_test_clf)"
   ]
  },
  {
   "cell_type": "markdown",
   "metadata": {},
   "source": [
    "## Bonus: For each of the data sets in this lab, try training with some of the other models you have learned about, recalculate the evaluation metrics, and compare to determine which models perform best on each data set."
   ]
  },
  {
   "cell_type": "code",
   "execution_count": null,
   "metadata": {},
   "outputs": [],
   "source": []
  }
 ],
 "metadata": {
  "kernelspec": {
   "display_name": "Python 3 (ipykernel)",
   "language": "python",
   "name": "python3"
  },
  "language_info": {
   "codemirror_mode": {
    "name": "ipython",
    "version": 3
   },
   "file_extension": ".py",
   "mimetype": "text/x-python",
   "name": "python",
   "nbconvert_exporter": "python",
   "pygments_lexer": "ipython3",
   "version": "3.11.4"
  },
  "toc": {
   "base_numbering": 1,
   "nav_menu": {},
   "number_sections": true,
   "sideBar": true,
   "skip_h1_title": false,
   "title_cell": "Table of Contents",
   "title_sidebar": "Contents",
   "toc_cell": false,
   "toc_position": {},
   "toc_section_display": true,
   "toc_window_display": false
  }
 },
 "nbformat": 4,
 "nbformat_minor": 2
}
